{
 "cells": [
  {
   "cell_type": "markdown",
   "metadata": {},
   "source": [
    "Linear system in two variables\n",
    "$$\n",
    "a_{11} x + a_{12} y = b_1\\\\\n",
    "a_{21} x + a_{22} y = b_2\n",
    "$$\n",
    "\n",
    "Look at influence of measurement error in $b_1, b_2$ on solution $x, y$.\n",
    "\n",
    "Interpretation as intersection of two lines."
   ]
  },
  {
   "cell_type": "code",
   "execution_count": null,
   "metadata": {},
   "outputs": [],
   "source": [
    "import numpy as np\n",
    "import matplotlib.pyplot as plt\n",
    "from ipywidgets import interact\n",
    "\n",
    "a11 = 1.0; a12 = 2.0; b1 = 17.0\n",
    "a21 = 1.5; a22 = 3.5; b2 = 29.25\n",
    "\n",
    "x = np.linspace(1,3,100)\n",
    "\n",
    "def doplot(b1):\n",
    "    y1 = (b1 - a11*x)/a12  # Line from first equation\n",
    "    y2 = (b2 - a21*x)/a22  # Line from second equation\n",
    "    sol = np.linalg.solve([[a11, a12], [a21, a22]], [b1, b2])\n",
    "    plt.plot([sol[0], sol[0]], [6.8, 8.2], 'k:')\n",
    "    plt.plot([1.0, 3.0], [sol[1], sol[1]], 'k:')\n",
    "    plt.plot(x, y1)\n",
    "    plt.plot(x, y2)\n",
    "    \n",
    "    plt.axis('equal')\n",
    "    plt.xlabel('x')\n",
    "    plt.ylabel('y')\n",
    "    plt.title(f'solution: x,y={sol}')\n",
    "    \n",
    "interact(doplot, b1=(16.9, 17.1, 0.01));"
   ]
  }
 ],
 "metadata": {
  "kernelspec": {
   "display_name": "Python 3",
   "language": "python",
   "name": "python3"
  },
  "language_info": {
   "codemirror_mode": {
    "name": "ipython",
    "version": 3
   },
   "file_extension": ".py",
   "mimetype": "text/x-python",
   "name": "python",
   "nbconvert_exporter": "python",
   "pygments_lexer": "ipython3",
   "version": "3.8.5"
  }
 },
 "nbformat": 4,
 "nbformat_minor": 4
}
